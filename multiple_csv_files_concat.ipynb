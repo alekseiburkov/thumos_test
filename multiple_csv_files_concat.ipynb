{
  "nbformat": 4,
  "nbformat_minor": 0,
  "metadata": {
    "colab": {
      "provenance": [],
      "toc_visible": true
    },
    "kernelspec": {
      "name": "python3",
      "display_name": "Python 3"
    },
    "language_info": {
      "name": "python"
    }
  },
  "cells": [
    {
      "cell_type": "markdown",
      "source": [
        "# Merge 110 CSV files into a large dataset for further processing."
      ],
      "metadata": {
        "id": "S3rCz0dNzczf"
      }
    },
    {
      "cell_type": "markdown",
      "source": [
        "## Intro"
      ],
      "metadata": {
        "id": "vW5yngC9Eqx7"
      }
    },
    {
      "cell_type": "markdown",
      "source": [
        "**Case:**\n",
        "\n",
        "The dataset of 4 million rows was extracted from GCP, in small portions, about 40,000 rows in CSV format. Totaling 110 files. The files are named as follows:\n",
        "\n",
        "* data_000000000001.csv\n",
        "* data_000000000002.csv\n",
        "\n",
        "    ...\n",
        "\n",
        "* data_000000000110.csv\n",
        "\n",
        "Develop a method for uploading all these 110 files using Jupyter Notebook and merging them into a single dataset for further processing."
      ],
      "metadata": {
        "id": "BMfgQ6oRz8bB"
      }
    },
    {
      "cell_type": "markdown",
      "source": [
        "**Plan:**\n",
        "\n",
        "1. Import necessary libraries for merging CSV files.\n",
        "2. Time different methods of merging and select the fastest. Methods to compare:\n",
        "    * Pandas;\n",
        "    * Multiprocessing.\n",
        "3. Select the fastest and most convenient method."
      ],
      "metadata": {
        "id": "9sWeU7LHDXhF"
      }
    },
    {
      "cell_type": "markdown",
      "source": [
        "Notes:\n",
        "1. 110 CSV files for testing were generated before, see 'create_csv_files.ipynb';\n",
        "2. All the methods will merge all the CSV files in a given directory, so if a number of CSV files doesn't match 110 the methods are still usable;\n",
        "3. This work is done under the assumption that merging needs to be performed in Jupyter. There are other options to concatenate files in a given directory like using console commands in OS."
      ],
      "metadata": {
        "id": "vaM2TOfRE8Be"
      }
    },
    {
      "cell_type": "markdown",
      "source": [
        "## Imports"
      ],
      "metadata": {
        "id": "YXqp8YsmEpMe"
      }
    },
    {
      "cell_type": "code",
      "source": [
        "from google.colab import drive\n",
        "drive.mount('/content/drive')"
      ],
      "metadata": {
        "colab": {
          "base_uri": "https://localhost:8080/"
        },
        "id": "RvbOi8NSa2Po",
        "outputId": "7b6ecc30-dbb8-499e-c20b-b1b81f27539a"
      },
      "execution_count": 1,
      "outputs": [
        {
          "output_type": "stream",
          "name": "stdout",
          "text": [
            "Drive already mounted at /content/drive; to attempt to forcibly remount, call drive.mount(\"/content/drive\", force_remount=True).\n"
          ]
        }
      ]
    },
    {
      "cell_type": "code",
      "execution_count": 2,
      "metadata": {
        "id": "4l1CCw3Kytjl"
      },
      "outputs": [],
      "source": [
        "import os\n",
        "import pandas as pd\n",
        "from multiprocessing import Pool\n",
        "import time"
      ]
    },
    {
      "cell_type": "markdown",
      "source": [
        "Check amount of CPU cores the computer has."
      ],
      "metadata": {
        "id": "EKITiQ9iR5uC"
      }
    },
    {
      "cell_type": "code",
      "source": [
        "cores = os.cpu_count()\n",
        "cores"
      ],
      "metadata": {
        "colab": {
          "base_uri": "https://localhost:8080/"
        },
        "id": "hhICpIL_RxQK",
        "outputId": "27b54d22-b496-428d-843c-cc9068944efb"
      },
      "execution_count": 3,
      "outputs": [
        {
          "output_type": "execute_result",
          "data": {
            "text/plain": [
              "2"
            ]
          },
          "metadata": {},
          "execution_count": 3
        }
      ]
    },
    {
      "cell_type": "markdown",
      "source": [
        "We have 2 cores to work with."
      ],
      "metadata": {
        "id": "9215pyNCSi2M"
      }
    },
    {
      "cell_type": "markdown",
      "source": [
        "Constants."
      ],
      "metadata": {
        "id": "EI-hT-dsccMb"
      }
    },
    {
      "cell_type": "code",
      "source": [
        "DIRECTORY_PATH = '/content/drive/MyDrive/test_thumos/csv/'\n",
        "OUTPUT_PATH_CSV = '/content/drive/MyDrive/test_thumos/merged_df.csv'\n",
        "OUTPUT_PATH_PA = '/content/drive/MyDrive/test_thumos/merged_df.parquet'\n",
        "NPARTITIONS = cores\n",
        "PROCESSES = cores\n",
        "REPETITIONS = 5"
      ],
      "metadata": {
        "id": "AX3xdatqceH2"
      },
      "execution_count": 4,
      "outputs": []
    },
    {
      "cell_type": "markdown",
      "source": [
        "## Timing"
      ],
      "metadata": {
        "id": "04b4FWS8FwlQ"
      }
    },
    {
      "cell_type": "markdown",
      "source": [
        "Making a function that would time proposed methods."
      ],
      "metadata": {
        "id": "VJGBnnRWGUT2"
      }
    },
    {
      "cell_type": "code",
      "source": [
        "def timing(func, *args, repetitions=REPETITIONS, **kwargs):\n",
        "    '''\n",
        "    Timing function takes a function to time, arguments for that function and the number of repetitions.\n",
        "    It returns the result of the function and the time it took a method to complete the task.\n",
        "    '''\n",
        "    total_time = 0\n",
        "    for _ in range(repetitions):\n",
        "        start_time = time.time()\n",
        "        result = func(*args, **kwargs)\n",
        "        end_time = time.time()\n",
        "        total_time += end_time - start_time\n",
        "    average_time = total_time / repetitions\n",
        "    return result, average_time"
      ],
      "metadata": {
        "id": "yv-KRAg5F58w"
      },
      "execution_count": 5,
      "outputs": []
    },
    {
      "cell_type": "markdown",
      "source": [
        "## Merging methods"
      ],
      "metadata": {
        "id": "MgzVzjsCKdoJ"
      }
    },
    {
      "cell_type": "markdown",
      "source": [
        "### Pandas"
      ],
      "metadata": {
        "id": "7IBG1vq2Fq3W"
      }
    },
    {
      "cell_type": "markdown",
      "source": [
        "Using most popular library for data handling in Python without any additional libraries."
      ],
      "metadata": {
        "id": "US1PaZ7fU8kH"
      }
    },
    {
      "cell_type": "code",
      "source": [
        "def pandas_merge(directory_path):\n",
        "    '''\n",
        "    The function takes a path to CSV files to merge and returns a merged DataFrame.\n",
        "    '''\n",
        "    merged_df_pandas = pd.DataFrame()\n",
        "    file_list = [os.path.join(directory_path, filename) for filename in os.listdir(directory_path) if filename.endswith('.csv')]\n",
        "    for filename in file_list:\n",
        "        df = pd.read_csv(filename)\n",
        "        merged_df_pandas = pd.concat([merged_df_pandas, df], ignore_index=True)\n",
        "    return merged_df_pandas"
      ],
      "metadata": {
        "id": "eYUyRbezFqBq"
      },
      "execution_count": 6,
      "outputs": []
    },
    {
      "cell_type": "markdown",
      "source": [
        "### Multiprocessing"
      ],
      "metadata": {
        "id": "r-DwUzIoKsaB"
      }
    },
    {
      "cell_type": "markdown",
      "source": [
        "Adding parallel tasking using Multiprocessing."
      ],
      "metadata": {
        "id": "xuytg5NQVRTG"
      }
    },
    {
      "cell_type": "code",
      "source": [
        "def multiprocessing_merge(directory_path, processes):\n",
        "    '''\n",
        "    The function takes a path to CSV files to merge and returns a merged DataFrame.\n",
        "    '''\n",
        "    pool = Pool(processes=processes)\n",
        "    file_list = [os.path.join(directory_path, filename) for filename in os.listdir(directory_path) if filename.endswith('.csv')]\n",
        "    data_frames = pool.map(pd.read_csv, file_list)\n",
        "    merged_df_mult = pd.concat(data_frames, ignore_index=True)\n",
        "    return merged_df_mult"
      ],
      "metadata": {
        "id": "LHp2xMjfS-hk"
      },
      "execution_count": 7,
      "outputs": []
    },
    {
      "cell_type": "markdown",
      "source": [
        "## Testing"
      ],
      "metadata": {
        "id": "I3Tm-Dp1W6Vv"
      }
    },
    {
      "cell_type": "markdown",
      "source": [
        "Checking number of rows in all CSV file in a directory."
      ],
      "metadata": {
        "id": "PZyoHQDBeHPL"
      }
    },
    {
      "cell_type": "code",
      "source": [
        "rows_all = 0\n",
        "\n",
        "file_list = [os.path.join(DIRECTORY_PATH, filename) for filename in os.listdir(DIRECTORY_PATH) if filename.endswith('.csv')]\n",
        "for filename in file_list:\n",
        "    try:\n",
        "        df = pd.read_csv(filename)\n",
        "        rows = len(df)\n",
        "        rows_all += rows\n",
        "    except Exception as e:\n",
        "        print(f'File: {filename}, Error: {str(e)}')"
      ],
      "metadata": {
        "id": "hallbNQtYtXY"
      },
      "execution_count": 8,
      "outputs": []
    },
    {
      "cell_type": "code",
      "source": [
        "print(f'Number of rows in all CSV files: {rows_all}')"
      ],
      "metadata": {
        "colab": {
          "base_uri": "https://localhost:8080/"
        },
        "id": "y3srGG47ZTMi",
        "outputId": "1261af7e-94e0-4f54-c6db-6247a9aaf152"
      },
      "execution_count": 9,
      "outputs": [
        {
          "output_type": "stream",
          "name": "stdout",
          "text": [
            "Number of rows in all CSV files: 4400000\n"
          ]
        }
      ]
    },
    {
      "cell_type": "markdown",
      "source": [
        "**Pandas**"
      ],
      "metadata": {
        "id": "NgphLUifbg4S"
      }
    },
    {
      "cell_type": "code",
      "source": [
        "merged_df_pandas, pandas_execution_time = timing(pandas_merge, directory_path=DIRECTORY_PATH)"
      ],
      "metadata": {
        "id": "DGLcfm4lXQq_"
      },
      "execution_count": 10,
      "outputs": []
    },
    {
      "cell_type": "code",
      "source": [
        "if len(merged_df_pandas) == rows_all:\n",
        "    print('Merge has been successful.')\n",
        "else: print('Error')"
      ],
      "metadata": {
        "colab": {
          "base_uri": "https://localhost:8080/"
        },
        "id": "9sOb8sqce-a6",
        "outputId": "864061df-e5b5-4ddc-dcdc-364825ec8520"
      },
      "execution_count": 11,
      "outputs": [
        {
          "output_type": "stream",
          "name": "stdout",
          "text": [
            "Merge has been successful.\n"
          ]
        }
      ]
    },
    {
      "cell_type": "markdown",
      "source": [
        "**Multiprocessing**"
      ],
      "metadata": {
        "id": "jTkBez3Lc890"
      }
    },
    {
      "cell_type": "code",
      "source": [
        "merged_df_multiprocessing, multiprocessing_execution_time = timing(multiprocessing_merge,\n",
        "                                                                   directory_path=DIRECTORY_PATH,\n",
        "                                                                   processes=PROCESSES)"
      ],
      "metadata": {
        "id": "KtQsabJGbqOU"
      },
      "execution_count": 12,
      "outputs": []
    },
    {
      "cell_type": "code",
      "source": [
        "if len(merged_df_multiprocessing) == rows_all:\n",
        "    print('Merge has been successful.')\n",
        "else: print('Error')"
      ],
      "metadata": {
        "colab": {
          "base_uri": "https://localhost:8080/"
        },
        "id": "VlQao61ihCX6",
        "outputId": "5bd4d438-3a63-4fe0-da8e-40dbd8089a27"
      },
      "execution_count": 13,
      "outputs": [
        {
          "output_type": "stream",
          "name": "stdout",
          "text": [
            "Merge has been successful.\n"
          ]
        }
      ]
    },
    {
      "cell_type": "markdown",
      "source": [
        "**Results**"
      ],
      "metadata": {
        "id": "E52txXH0dGwQ"
      }
    },
    {
      "cell_type": "code",
      "source": [
        "print(f'Pandas took {pandas_execution_time:.2f} seconds.')\n",
        "print(f'Multiprocessing took {multiprocessing_execution_time:.2f} seconds.')"
      ],
      "metadata": {
        "colab": {
          "base_uri": "https://localhost:8080/"
        },
        "id": "YLSehZ8YdIJE",
        "outputId": "3a1a16f9-608e-4702-ceb6-c36786bfd9bd"
      },
      "execution_count": 14,
      "outputs": [
        {
          "output_type": "stream",
          "name": "stdout",
          "text": [
            "Pandas took 7.61 seconds.\n",
            "Multiprocessing took 4.27 seconds.\n"
          ]
        }
      ]
    },
    {
      "cell_type": "markdown",
      "source": [
        "## Result"
      ],
      "metadata": {
        "id": "KBhw0Aw9n5sO"
      }
    },
    {
      "cell_type": "markdown",
      "source": [
        "The best method according to this experiment is Multiprocessing with Pandas."
      ],
      "metadata": {
        "id": "Vi4iIoxRoAkQ"
      }
    },
    {
      "cell_type": "markdown",
      "source": [
        "**The final code would be:**"
      ],
      "metadata": {
        "id": "9wB5hujzoa8d"
      }
    },
    {
      "cell_type": "code",
      "source": [
        "import os\n",
        "import pandas as pd\n",
        "from multiprocessing import Pool"
      ],
      "metadata": {
        "id": "JssPgsuRpwXE"
      },
      "execution_count": 15,
      "outputs": []
    },
    {
      "cell_type": "code",
      "source": [
        "def multiprocessing_merge(directory_path, processes):\n",
        "    '''\n",
        "    The function takes a path to CSV files to merge and returns a merged DataFrame.\n",
        "    '''\n",
        "    pool = Pool(processes=processes)\n",
        "    file_list = [os.path.join(directory_path, filename) for filename in os.listdir(directory_path) if filename.endswith('.csv')]\n",
        "    data_frames = pool.map(pd.read_csv, file_list)\n",
        "    merged_df_mult = pd.concat(data_frames, ignore_index=True)\n",
        "    return merged_df_mult"
      ],
      "metadata": {
        "id": "PIT7JZdxkz6o"
      },
      "execution_count": 16,
      "outputs": []
    },
    {
      "cell_type": "code",
      "source": [
        "merged_df = multiprocessing_merge(directory_path=DIRECTORY_PATH, processes=PROCESSES)"
      ],
      "metadata": {
        "id": "-5snGg6_ptQy"
      },
      "execution_count": 17,
      "outputs": []
    },
    {
      "cell_type": "code",
      "source": [
        "display(merged_df.head())\n",
        "display(merged_df.tail())"
      ],
      "metadata": {
        "colab": {
          "base_uri": "https://localhost:8080/",
          "height": 395
        },
        "id": "vKLDz8EvrRPh",
        "outputId": "7895f0cf-416a-4d2f-d753-123d10c8e413"
      },
      "execution_count": 18,
      "outputs": [
        {
          "output_type": "display_data",
          "data": {
            "text/plain": [
              "   Column_1  Column_2  Column_3\n",
              "0  0.984022  0.415212  0.838954\n",
              "1  0.561004  0.896267  0.922400\n",
              "2  0.571279  0.692830  0.548028\n",
              "3  0.584213  0.816620  0.693794\n",
              "4  0.520904  0.208829  0.983191"
            ],
            "text/html": [
              "\n",
              "  <div id=\"df-1900e376-4a6e-4666-970b-8ff029d23cb3\" class=\"colab-df-container\">\n",
              "    <div>\n",
              "<style scoped>\n",
              "    .dataframe tbody tr th:only-of-type {\n",
              "        vertical-align: middle;\n",
              "    }\n",
              "\n",
              "    .dataframe tbody tr th {\n",
              "        vertical-align: top;\n",
              "    }\n",
              "\n",
              "    .dataframe thead th {\n",
              "        text-align: right;\n",
              "    }\n",
              "</style>\n",
              "<table border=\"1\" class=\"dataframe\">\n",
              "  <thead>\n",
              "    <tr style=\"text-align: right;\">\n",
              "      <th></th>\n",
              "      <th>Column_1</th>\n",
              "      <th>Column_2</th>\n",
              "      <th>Column_3</th>\n",
              "    </tr>\n",
              "  </thead>\n",
              "  <tbody>\n",
              "    <tr>\n",
              "      <th>0</th>\n",
              "      <td>0.984022</td>\n",
              "      <td>0.415212</td>\n",
              "      <td>0.838954</td>\n",
              "    </tr>\n",
              "    <tr>\n",
              "      <th>1</th>\n",
              "      <td>0.561004</td>\n",
              "      <td>0.896267</td>\n",
              "      <td>0.922400</td>\n",
              "    </tr>\n",
              "    <tr>\n",
              "      <th>2</th>\n",
              "      <td>0.571279</td>\n",
              "      <td>0.692830</td>\n",
              "      <td>0.548028</td>\n",
              "    </tr>\n",
              "    <tr>\n",
              "      <th>3</th>\n",
              "      <td>0.584213</td>\n",
              "      <td>0.816620</td>\n",
              "      <td>0.693794</td>\n",
              "    </tr>\n",
              "    <tr>\n",
              "      <th>4</th>\n",
              "      <td>0.520904</td>\n",
              "      <td>0.208829</td>\n",
              "      <td>0.983191</td>\n",
              "    </tr>\n",
              "  </tbody>\n",
              "</table>\n",
              "</div>\n",
              "    <div class=\"colab-df-buttons\">\n",
              "\n",
              "  <div class=\"colab-df-container\">\n",
              "    <button class=\"colab-df-convert\" onclick=\"convertToInteractive('df-1900e376-4a6e-4666-970b-8ff029d23cb3')\"\n",
              "            title=\"Convert this dataframe to an interactive table.\"\n",
              "            style=\"display:none;\">\n",
              "\n",
              "  <svg xmlns=\"http://www.w3.org/2000/svg\" height=\"24px\" viewBox=\"0 -960 960 960\">\n",
              "    <path d=\"M120-120v-720h720v720H120Zm60-500h600v-160H180v160Zm220 220h160v-160H400v160Zm0 220h160v-160H400v160ZM180-400h160v-160H180v160Zm440 0h160v-160H620v160ZM180-180h160v-160H180v160Zm440 0h160v-160H620v160Z\"/>\n",
              "  </svg>\n",
              "    </button>\n",
              "\n",
              "  <style>\n",
              "    .colab-df-container {\n",
              "      display:flex;\n",
              "      gap: 12px;\n",
              "    }\n",
              "\n",
              "    .colab-df-convert {\n",
              "      background-color: #E8F0FE;\n",
              "      border: none;\n",
              "      border-radius: 50%;\n",
              "      cursor: pointer;\n",
              "      display: none;\n",
              "      fill: #1967D2;\n",
              "      height: 32px;\n",
              "      padding: 0 0 0 0;\n",
              "      width: 32px;\n",
              "    }\n",
              "\n",
              "    .colab-df-convert:hover {\n",
              "      background-color: #E2EBFA;\n",
              "      box-shadow: 0px 1px 2px rgba(60, 64, 67, 0.3), 0px 1px 3px 1px rgba(60, 64, 67, 0.15);\n",
              "      fill: #174EA6;\n",
              "    }\n",
              "\n",
              "    .colab-df-buttons div {\n",
              "      margin-bottom: 4px;\n",
              "    }\n",
              "\n",
              "    [theme=dark] .colab-df-convert {\n",
              "      background-color: #3B4455;\n",
              "      fill: #D2E3FC;\n",
              "    }\n",
              "\n",
              "    [theme=dark] .colab-df-convert:hover {\n",
              "      background-color: #434B5C;\n",
              "      box-shadow: 0px 1px 3px 1px rgba(0, 0, 0, 0.15);\n",
              "      filter: drop-shadow(0px 1px 2px rgba(0, 0, 0, 0.3));\n",
              "      fill: #FFFFFF;\n",
              "    }\n",
              "  </style>\n",
              "\n",
              "    <script>\n",
              "      const buttonEl =\n",
              "        document.querySelector('#df-1900e376-4a6e-4666-970b-8ff029d23cb3 button.colab-df-convert');\n",
              "      buttonEl.style.display =\n",
              "        google.colab.kernel.accessAllowed ? 'block' : 'none';\n",
              "\n",
              "      async function convertToInteractive(key) {\n",
              "        const element = document.querySelector('#df-1900e376-4a6e-4666-970b-8ff029d23cb3');\n",
              "        const dataTable =\n",
              "          await google.colab.kernel.invokeFunction('convertToInteractive',\n",
              "                                                    [key], {});\n",
              "        if (!dataTable) return;\n",
              "\n",
              "        const docLinkHtml = 'Like what you see? Visit the ' +\n",
              "          '<a target=\"_blank\" href=https://colab.research.google.com/notebooks/data_table.ipynb>data table notebook</a>'\n",
              "          + ' to learn more about interactive tables.';\n",
              "        element.innerHTML = '';\n",
              "        dataTable['output_type'] = 'display_data';\n",
              "        await google.colab.output.renderOutput(dataTable, element);\n",
              "        const docLink = document.createElement('div');\n",
              "        docLink.innerHTML = docLinkHtml;\n",
              "        element.appendChild(docLink);\n",
              "      }\n",
              "    </script>\n",
              "  </div>\n",
              "\n",
              "\n",
              "<div id=\"df-8b23a0cf-ba85-402e-b570-30e7e2e74687\">\n",
              "  <button class=\"colab-df-quickchart\" onclick=\"quickchart('df-8b23a0cf-ba85-402e-b570-30e7e2e74687')\"\n",
              "            title=\"Suggest charts.\"\n",
              "            style=\"display:none;\">\n",
              "\n",
              "<svg xmlns=\"http://www.w3.org/2000/svg\" height=\"24px\"viewBox=\"0 0 24 24\"\n",
              "     width=\"24px\">\n",
              "    <g>\n",
              "        <path d=\"M19 3H5c-1.1 0-2 .9-2 2v14c0 1.1.9 2 2 2h14c1.1 0 2-.9 2-2V5c0-1.1-.9-2-2-2zM9 17H7v-7h2v7zm4 0h-2V7h2v10zm4 0h-2v-4h2v4z\"/>\n",
              "    </g>\n",
              "</svg>\n",
              "  </button>\n",
              "\n",
              "<style>\n",
              "  .colab-df-quickchart {\n",
              "      --bg-color: #E8F0FE;\n",
              "      --fill-color: #1967D2;\n",
              "      --hover-bg-color: #E2EBFA;\n",
              "      --hover-fill-color: #174EA6;\n",
              "      --disabled-fill-color: #AAA;\n",
              "      --disabled-bg-color: #DDD;\n",
              "  }\n",
              "\n",
              "  [theme=dark] .colab-df-quickchart {\n",
              "      --bg-color: #3B4455;\n",
              "      --fill-color: #D2E3FC;\n",
              "      --hover-bg-color: #434B5C;\n",
              "      --hover-fill-color: #FFFFFF;\n",
              "      --disabled-bg-color: #3B4455;\n",
              "      --disabled-fill-color: #666;\n",
              "  }\n",
              "\n",
              "  .colab-df-quickchart {\n",
              "    background-color: var(--bg-color);\n",
              "    border: none;\n",
              "    border-radius: 50%;\n",
              "    cursor: pointer;\n",
              "    display: none;\n",
              "    fill: var(--fill-color);\n",
              "    height: 32px;\n",
              "    padding: 0;\n",
              "    width: 32px;\n",
              "  }\n",
              "\n",
              "  .colab-df-quickchart:hover {\n",
              "    background-color: var(--hover-bg-color);\n",
              "    box-shadow: 0 1px 2px rgba(60, 64, 67, 0.3), 0 1px 3px 1px rgba(60, 64, 67, 0.15);\n",
              "    fill: var(--button-hover-fill-color);\n",
              "  }\n",
              "\n",
              "  .colab-df-quickchart-complete:disabled,\n",
              "  .colab-df-quickchart-complete:disabled:hover {\n",
              "    background-color: var(--disabled-bg-color);\n",
              "    fill: var(--disabled-fill-color);\n",
              "    box-shadow: none;\n",
              "  }\n",
              "\n",
              "  .colab-df-spinner {\n",
              "    border: 2px solid var(--fill-color);\n",
              "    border-color: transparent;\n",
              "    border-bottom-color: var(--fill-color);\n",
              "    animation:\n",
              "      spin 1s steps(1) infinite;\n",
              "  }\n",
              "\n",
              "  @keyframes spin {\n",
              "    0% {\n",
              "      border-color: transparent;\n",
              "      border-bottom-color: var(--fill-color);\n",
              "      border-left-color: var(--fill-color);\n",
              "    }\n",
              "    20% {\n",
              "      border-color: transparent;\n",
              "      border-left-color: var(--fill-color);\n",
              "      border-top-color: var(--fill-color);\n",
              "    }\n",
              "    30% {\n",
              "      border-color: transparent;\n",
              "      border-left-color: var(--fill-color);\n",
              "      border-top-color: var(--fill-color);\n",
              "      border-right-color: var(--fill-color);\n",
              "    }\n",
              "    40% {\n",
              "      border-color: transparent;\n",
              "      border-right-color: var(--fill-color);\n",
              "      border-top-color: var(--fill-color);\n",
              "    }\n",
              "    60% {\n",
              "      border-color: transparent;\n",
              "      border-right-color: var(--fill-color);\n",
              "    }\n",
              "    80% {\n",
              "      border-color: transparent;\n",
              "      border-right-color: var(--fill-color);\n",
              "      border-bottom-color: var(--fill-color);\n",
              "    }\n",
              "    90% {\n",
              "      border-color: transparent;\n",
              "      border-bottom-color: var(--fill-color);\n",
              "    }\n",
              "  }\n",
              "</style>\n",
              "\n",
              "  <script>\n",
              "    async function quickchart(key) {\n",
              "      const quickchartButtonEl =\n",
              "        document.querySelector('#' + key + ' button');\n",
              "      quickchartButtonEl.disabled = true;  // To prevent multiple clicks.\n",
              "      quickchartButtonEl.classList.add('colab-df-spinner');\n",
              "      try {\n",
              "        const charts = await google.colab.kernel.invokeFunction(\n",
              "            'suggestCharts', [key], {});\n",
              "      } catch (error) {\n",
              "        console.error('Error during call to suggestCharts:', error);\n",
              "      }\n",
              "      quickchartButtonEl.classList.remove('colab-df-spinner');\n",
              "      quickchartButtonEl.classList.add('colab-df-quickchart-complete');\n",
              "    }\n",
              "    (() => {\n",
              "      let quickchartButtonEl =\n",
              "        document.querySelector('#df-8b23a0cf-ba85-402e-b570-30e7e2e74687 button');\n",
              "      quickchartButtonEl.style.display =\n",
              "        google.colab.kernel.accessAllowed ? 'block' : 'none';\n",
              "    })();\n",
              "  </script>\n",
              "</div>\n",
              "    </div>\n",
              "  </div>\n"
            ]
          },
          "metadata": {}
        },
        {
          "output_type": "display_data",
          "data": {
            "text/plain": [
              "         Column_1  Column_2  Column_3\n",
              "4399995  0.197070  0.987627  0.691759\n",
              "4399996  0.289735  0.490333  0.311303\n",
              "4399997  0.037902  0.883471  0.417800\n",
              "4399998  0.269393  0.913051  0.773729\n",
              "4399999  0.533581  0.162291  0.872319"
            ],
            "text/html": [
              "\n",
              "  <div id=\"df-8395a02b-35b6-4dee-a10f-5c54533b955c\" class=\"colab-df-container\">\n",
              "    <div>\n",
              "<style scoped>\n",
              "    .dataframe tbody tr th:only-of-type {\n",
              "        vertical-align: middle;\n",
              "    }\n",
              "\n",
              "    .dataframe tbody tr th {\n",
              "        vertical-align: top;\n",
              "    }\n",
              "\n",
              "    .dataframe thead th {\n",
              "        text-align: right;\n",
              "    }\n",
              "</style>\n",
              "<table border=\"1\" class=\"dataframe\">\n",
              "  <thead>\n",
              "    <tr style=\"text-align: right;\">\n",
              "      <th></th>\n",
              "      <th>Column_1</th>\n",
              "      <th>Column_2</th>\n",
              "      <th>Column_3</th>\n",
              "    </tr>\n",
              "  </thead>\n",
              "  <tbody>\n",
              "    <tr>\n",
              "      <th>4399995</th>\n",
              "      <td>0.197070</td>\n",
              "      <td>0.987627</td>\n",
              "      <td>0.691759</td>\n",
              "    </tr>\n",
              "    <tr>\n",
              "      <th>4399996</th>\n",
              "      <td>0.289735</td>\n",
              "      <td>0.490333</td>\n",
              "      <td>0.311303</td>\n",
              "    </tr>\n",
              "    <tr>\n",
              "      <th>4399997</th>\n",
              "      <td>0.037902</td>\n",
              "      <td>0.883471</td>\n",
              "      <td>0.417800</td>\n",
              "    </tr>\n",
              "    <tr>\n",
              "      <th>4399998</th>\n",
              "      <td>0.269393</td>\n",
              "      <td>0.913051</td>\n",
              "      <td>0.773729</td>\n",
              "    </tr>\n",
              "    <tr>\n",
              "      <th>4399999</th>\n",
              "      <td>0.533581</td>\n",
              "      <td>0.162291</td>\n",
              "      <td>0.872319</td>\n",
              "    </tr>\n",
              "  </tbody>\n",
              "</table>\n",
              "</div>\n",
              "    <div class=\"colab-df-buttons\">\n",
              "\n",
              "  <div class=\"colab-df-container\">\n",
              "    <button class=\"colab-df-convert\" onclick=\"convertToInteractive('df-8395a02b-35b6-4dee-a10f-5c54533b955c')\"\n",
              "            title=\"Convert this dataframe to an interactive table.\"\n",
              "            style=\"display:none;\">\n",
              "\n",
              "  <svg xmlns=\"http://www.w3.org/2000/svg\" height=\"24px\" viewBox=\"0 -960 960 960\">\n",
              "    <path d=\"M120-120v-720h720v720H120Zm60-500h600v-160H180v160Zm220 220h160v-160H400v160Zm0 220h160v-160H400v160ZM180-400h160v-160H180v160Zm440 0h160v-160H620v160ZM180-180h160v-160H180v160Zm440 0h160v-160H620v160Z\"/>\n",
              "  </svg>\n",
              "    </button>\n",
              "\n",
              "  <style>\n",
              "    .colab-df-container {\n",
              "      display:flex;\n",
              "      gap: 12px;\n",
              "    }\n",
              "\n",
              "    .colab-df-convert {\n",
              "      background-color: #E8F0FE;\n",
              "      border: none;\n",
              "      border-radius: 50%;\n",
              "      cursor: pointer;\n",
              "      display: none;\n",
              "      fill: #1967D2;\n",
              "      height: 32px;\n",
              "      padding: 0 0 0 0;\n",
              "      width: 32px;\n",
              "    }\n",
              "\n",
              "    .colab-df-convert:hover {\n",
              "      background-color: #E2EBFA;\n",
              "      box-shadow: 0px 1px 2px rgba(60, 64, 67, 0.3), 0px 1px 3px 1px rgba(60, 64, 67, 0.15);\n",
              "      fill: #174EA6;\n",
              "    }\n",
              "\n",
              "    .colab-df-buttons div {\n",
              "      margin-bottom: 4px;\n",
              "    }\n",
              "\n",
              "    [theme=dark] .colab-df-convert {\n",
              "      background-color: #3B4455;\n",
              "      fill: #D2E3FC;\n",
              "    }\n",
              "\n",
              "    [theme=dark] .colab-df-convert:hover {\n",
              "      background-color: #434B5C;\n",
              "      box-shadow: 0px 1px 3px 1px rgba(0, 0, 0, 0.15);\n",
              "      filter: drop-shadow(0px 1px 2px rgba(0, 0, 0, 0.3));\n",
              "      fill: #FFFFFF;\n",
              "    }\n",
              "  </style>\n",
              "\n",
              "    <script>\n",
              "      const buttonEl =\n",
              "        document.querySelector('#df-8395a02b-35b6-4dee-a10f-5c54533b955c button.colab-df-convert');\n",
              "      buttonEl.style.display =\n",
              "        google.colab.kernel.accessAllowed ? 'block' : 'none';\n",
              "\n",
              "      async function convertToInteractive(key) {\n",
              "        const element = document.querySelector('#df-8395a02b-35b6-4dee-a10f-5c54533b955c');\n",
              "        const dataTable =\n",
              "          await google.colab.kernel.invokeFunction('convertToInteractive',\n",
              "                                                    [key], {});\n",
              "        if (!dataTable) return;\n",
              "\n",
              "        const docLinkHtml = 'Like what you see? Visit the ' +\n",
              "          '<a target=\"_blank\" href=https://colab.research.google.com/notebooks/data_table.ipynb>data table notebook</a>'\n",
              "          + ' to learn more about interactive tables.';\n",
              "        element.innerHTML = '';\n",
              "        dataTable['output_type'] = 'display_data';\n",
              "        await google.colab.output.renderOutput(dataTable, element);\n",
              "        const docLink = document.createElement('div');\n",
              "        docLink.innerHTML = docLinkHtml;\n",
              "        element.appendChild(docLink);\n",
              "      }\n",
              "    </script>\n",
              "  </div>\n",
              "\n",
              "\n",
              "<div id=\"df-ae9e2179-7a29-4e0f-a718-38d9d1d2ebab\">\n",
              "  <button class=\"colab-df-quickchart\" onclick=\"quickchart('df-ae9e2179-7a29-4e0f-a718-38d9d1d2ebab')\"\n",
              "            title=\"Suggest charts.\"\n",
              "            style=\"display:none;\">\n",
              "\n",
              "<svg xmlns=\"http://www.w3.org/2000/svg\" height=\"24px\"viewBox=\"0 0 24 24\"\n",
              "     width=\"24px\">\n",
              "    <g>\n",
              "        <path d=\"M19 3H5c-1.1 0-2 .9-2 2v14c0 1.1.9 2 2 2h14c1.1 0 2-.9 2-2V5c0-1.1-.9-2-2-2zM9 17H7v-7h2v7zm4 0h-2V7h2v10zm4 0h-2v-4h2v4z\"/>\n",
              "    </g>\n",
              "</svg>\n",
              "  </button>\n",
              "\n",
              "<style>\n",
              "  .colab-df-quickchart {\n",
              "      --bg-color: #E8F0FE;\n",
              "      --fill-color: #1967D2;\n",
              "      --hover-bg-color: #E2EBFA;\n",
              "      --hover-fill-color: #174EA6;\n",
              "      --disabled-fill-color: #AAA;\n",
              "      --disabled-bg-color: #DDD;\n",
              "  }\n",
              "\n",
              "  [theme=dark] .colab-df-quickchart {\n",
              "      --bg-color: #3B4455;\n",
              "      --fill-color: #D2E3FC;\n",
              "      --hover-bg-color: #434B5C;\n",
              "      --hover-fill-color: #FFFFFF;\n",
              "      --disabled-bg-color: #3B4455;\n",
              "      --disabled-fill-color: #666;\n",
              "  }\n",
              "\n",
              "  .colab-df-quickchart {\n",
              "    background-color: var(--bg-color);\n",
              "    border: none;\n",
              "    border-radius: 50%;\n",
              "    cursor: pointer;\n",
              "    display: none;\n",
              "    fill: var(--fill-color);\n",
              "    height: 32px;\n",
              "    padding: 0;\n",
              "    width: 32px;\n",
              "  }\n",
              "\n",
              "  .colab-df-quickchart:hover {\n",
              "    background-color: var(--hover-bg-color);\n",
              "    box-shadow: 0 1px 2px rgba(60, 64, 67, 0.3), 0 1px 3px 1px rgba(60, 64, 67, 0.15);\n",
              "    fill: var(--button-hover-fill-color);\n",
              "  }\n",
              "\n",
              "  .colab-df-quickchart-complete:disabled,\n",
              "  .colab-df-quickchart-complete:disabled:hover {\n",
              "    background-color: var(--disabled-bg-color);\n",
              "    fill: var(--disabled-fill-color);\n",
              "    box-shadow: none;\n",
              "  }\n",
              "\n",
              "  .colab-df-spinner {\n",
              "    border: 2px solid var(--fill-color);\n",
              "    border-color: transparent;\n",
              "    border-bottom-color: var(--fill-color);\n",
              "    animation:\n",
              "      spin 1s steps(1) infinite;\n",
              "  }\n",
              "\n",
              "  @keyframes spin {\n",
              "    0% {\n",
              "      border-color: transparent;\n",
              "      border-bottom-color: var(--fill-color);\n",
              "      border-left-color: var(--fill-color);\n",
              "    }\n",
              "    20% {\n",
              "      border-color: transparent;\n",
              "      border-left-color: var(--fill-color);\n",
              "      border-top-color: var(--fill-color);\n",
              "    }\n",
              "    30% {\n",
              "      border-color: transparent;\n",
              "      border-left-color: var(--fill-color);\n",
              "      border-top-color: var(--fill-color);\n",
              "      border-right-color: var(--fill-color);\n",
              "    }\n",
              "    40% {\n",
              "      border-color: transparent;\n",
              "      border-right-color: var(--fill-color);\n",
              "      border-top-color: var(--fill-color);\n",
              "    }\n",
              "    60% {\n",
              "      border-color: transparent;\n",
              "      border-right-color: var(--fill-color);\n",
              "    }\n",
              "    80% {\n",
              "      border-color: transparent;\n",
              "      border-right-color: var(--fill-color);\n",
              "      border-bottom-color: var(--fill-color);\n",
              "    }\n",
              "    90% {\n",
              "      border-color: transparent;\n",
              "      border-bottom-color: var(--fill-color);\n",
              "    }\n",
              "  }\n",
              "</style>\n",
              "\n",
              "  <script>\n",
              "    async function quickchart(key) {\n",
              "      const quickchartButtonEl =\n",
              "        document.querySelector('#' + key + ' button');\n",
              "      quickchartButtonEl.disabled = true;  // To prevent multiple clicks.\n",
              "      quickchartButtonEl.classList.add('colab-df-spinner');\n",
              "      try {\n",
              "        const charts = await google.colab.kernel.invokeFunction(\n",
              "            'suggestCharts', [key], {});\n",
              "      } catch (error) {\n",
              "        console.error('Error during call to suggestCharts:', error);\n",
              "      }\n",
              "      quickchartButtonEl.classList.remove('colab-df-spinner');\n",
              "      quickchartButtonEl.classList.add('colab-df-quickchart-complete');\n",
              "    }\n",
              "    (() => {\n",
              "      let quickchartButtonEl =\n",
              "        document.querySelector('#df-ae9e2179-7a29-4e0f-a718-38d9d1d2ebab button');\n",
              "      quickchartButtonEl.style.display =\n",
              "        google.colab.kernel.accessAllowed ? 'block' : 'none';\n",
              "    })();\n",
              "  </script>\n",
              "</div>\n",
              "    </div>\n",
              "  </div>\n"
            ]
          },
          "metadata": {}
        }
      ]
    },
    {
      "cell_type": "code",
      "source": [
        "merged_df.info()"
      ],
      "metadata": {
        "colab": {
          "base_uri": "https://localhost:8080/"
        },
        "id": "540Wu9GcraBQ",
        "outputId": "cfc5f8f8-271d-474d-ebc3-4ad9042fbe3b"
      },
      "execution_count": 19,
      "outputs": [
        {
          "output_type": "stream",
          "name": "stdout",
          "text": [
            "<class 'pandas.core.frame.DataFrame'>\n",
            "RangeIndex: 4400000 entries, 0 to 4399999\n",
            "Data columns (total 3 columns):\n",
            " #   Column    Dtype  \n",
            "---  ------    -----  \n",
            " 0   Column_1  float64\n",
            " 1   Column_2  float64\n",
            " 2   Column_3  float64\n",
            "dtypes: float64(3)\n",
            "memory usage: 100.7 MB\n"
          ]
        }
      ]
    },
    {
      "cell_type": "code",
      "source": [
        "rows_all = 0\n",
        "\n",
        "for filename in file_list:\n",
        "    try:\n",
        "        df = pd.read_csv(filename)\n",
        "        rows = len(df)\n",
        "        rows_all += rows\n",
        "    except Exception as e:\n",
        "        print(f'File: {filename}, Error: {str(e)}')"
      ],
      "metadata": {
        "id": "gHQ6ujShZ1Uv"
      },
      "execution_count": 20,
      "outputs": []
    },
    {
      "cell_type": "code",
      "source": [
        "print(f'Number of rows in all CSV files: {rows_all}')"
      ],
      "metadata": {
        "colab": {
          "base_uri": "https://localhost:8080/"
        },
        "id": "5ZcycIznZ69b",
        "outputId": "61da5890-f63a-4b94-e356-bb4764fe2f12"
      },
      "execution_count": 21,
      "outputs": [
        {
          "output_type": "stream",
          "name": "stdout",
          "text": [
            "Number of rows in all CSV files: 4400000\n"
          ]
        }
      ]
    },
    {
      "cell_type": "code",
      "source": [
        "if len(merged_df) == rows_all:\n",
        "    print('Merge has been successful.')\n",
        "else: print('Error')"
      ],
      "metadata": {
        "colab": {
          "base_uri": "https://localhost:8080/"
        },
        "id": "5M_4S6nKrh0y",
        "outputId": "4702189d-cfea-4646-c9ec-4dfcfb2d785e"
      },
      "execution_count": 22,
      "outputs": [
        {
          "output_type": "stream",
          "name": "stdout",
          "text": [
            "Merge has been successful.\n"
          ]
        }
      ]
    },
    {
      "cell_type": "markdown",
      "source": [
        "If it's needed to save merged CSV file the code below would do it."
      ],
      "metadata": {
        "id": "71OfLP9ipFYB"
      }
    },
    {
      "cell_type": "code",
      "source": [
        "merged_df.to_csv(OUTPUT_PATH_CSV, index=False)"
      ],
      "metadata": {
        "id": "npcpMDk8pVWV"
      },
      "execution_count": 23,
      "outputs": []
    },
    {
      "cell_type": "code",
      "source": [
        "if os.path.exists(OUTPUT_PATH_CSV):\n",
        "    print(f'CSV file saved successfully to: {OUTPUT_PATH_CSV}')\n",
        "else:\n",
        "    print('CSV file not saved.')"
      ],
      "metadata": {
        "colab": {
          "base_uri": "https://localhost:8080/"
        },
        "id": "52n_5qxGshap",
        "outputId": "603ae8c1-afb6-45e5-9dbf-7ab93090f63d"
      },
      "execution_count": 24,
      "outputs": [
        {
          "output_type": "stream",
          "name": "stdout",
          "text": [
            "CSV file saved successfully to: /content/drive/MyDrive/test_thumos/merged_df.csv\n"
          ]
        }
      ]
    },
    {
      "cell_type": "markdown",
      "source": [
        "If the merged file size is to large we can save it as .parquet file."
      ],
      "metadata": {
        "id": "QSlOc367kKKi"
      }
    },
    {
      "cell_type": "code",
      "source": [
        "merged_df.to_parquet(OUTPUT_PATH_PA, index=False)\n"
      ],
      "metadata": {
        "id": "i8TCtllbZ_e6"
      },
      "execution_count": 25,
      "outputs": []
    },
    {
      "cell_type": "code",
      "source": [
        "if os.path.exists(OUTPUT_PATH_PA):\n",
        "    print(f'CSV file saved successfully to: {OUTPUT_PATH_PA}')\n",
        "else:\n",
        "    print('CSV file not saved.')"
      ],
      "metadata": {
        "colab": {
          "base_uri": "https://localhost:8080/"
        },
        "id": "FR1otTYkhxLR",
        "outputId": "60c2c9d2-02d0-4e69-869e-8a8f52fa7a99"
      },
      "execution_count": 26,
      "outputs": [
        {
          "output_type": "stream",
          "name": "stdout",
          "text": [
            "CSV file saved successfully to: /content/drive/MyDrive/test_thumos/merged_df.parquet\n"
          ]
        }
      ]
    },
    {
      "cell_type": "markdown",
      "source": [
        "Comparison of file_sizes."
      ],
      "metadata": {
        "id": "CxWSSMl2kTfF"
      }
    },
    {
      "cell_type": "code",
      "source": [
        "!du -h {OUTPUT_PATH_CSV} {OUTPUT_PATH_PA}"
      ],
      "metadata": {
        "colab": {
          "base_uri": "https://localhost:8080/"
        },
        "id": "mY1MjF8VjeWv",
        "outputId": "0348ec01-1ebe-416b-9492-cf887a55d981"
      },
      "execution_count": 27,
      "outputs": [
        {
          "output_type": "stream",
          "name": "stdout",
          "text": [
            "238M\t/content/drive/MyDrive/test_thumos/merged_df.csv\n",
            "102M\t/content/drive/MyDrive/test_thumos/merged_df.parquet\n"
          ]
        }
      ]
    },
    {
      "cell_type": "markdown",
      "source": [
        "Best method for merging dataframes is Multiprocessing with Pandas. To save storae space it's better to save merged dataframe as .parquet."
      ],
      "metadata": {
        "id": "_LU8dKt-qi1G"
      }
    }
  ]
}