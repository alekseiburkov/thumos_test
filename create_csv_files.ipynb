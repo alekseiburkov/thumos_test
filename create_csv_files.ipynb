{
  "nbformat": 4,
  "nbformat_minor": 0,
  "metadata": {
    "colab": {
      "provenance": []
    },
    "kernelspec": {
      "name": "python3",
      "display_name": "Python 3"
    },
    "language_info": {
      "name": "python"
    }
  },
  "cells": [
    {
      "cell_type": "markdown",
      "source": [
        "<b><font size=\"4\">Create multiple csv files.</font></b>"
      ],
      "metadata": {
        "id": "fRpKdrzTqSs4"
      }
    },
    {
      "cell_type": "markdown",
      "source": [
        "**Libraries import and directory output**"
      ],
      "metadata": {
        "id": "-8E-sCnIrEPH"
      }
    },
    {
      "cell_type": "code",
      "execution_count": null,
      "metadata": {
        "id": "JrEPY5sCpNS3"
      },
      "outputs": [],
      "source": [
        "from google.colab import drive\n",
        "drive.mount('/content/drive')"
      ]
    },
    {
      "cell_type": "code",
      "source": [
        "import pandas as pd\n",
        "import numpy as np\n",
        "import os"
      ],
      "metadata": {
        "id": "ism4wCBHqR80"
      },
      "execution_count": 2,
      "outputs": []
    },
    {
      "cell_type": "code",
      "source": [
        "output_directory = '/content/drive/MyDrive/test_thumos/csv'"
      ],
      "metadata": {
        "id": "ou3BlVouqeqi"
      },
      "execution_count": 3,
      "outputs": []
    },
    {
      "cell_type": "code",
      "source": [
        "if not os.path.exists(output_directory):\n",
        "    os.makedirs(output_directory)"
      ],
      "metadata": {
        "id": "y8P1bAjkq0dy"
      },
      "execution_count": 4,
      "outputs": []
    },
    {
      "cell_type": "markdown",
      "source": [
        "**Parameters and column names definition**"
      ],
      "metadata": {
        "id": "Of4KKQVkrTx5"
      }
    },
    {
      "cell_type": "code",
      "source": [
        "num_files = 110\n",
        "num_rows = 40000\n",
        "num_columns = 3"
      ],
      "metadata": {
        "id": "phyPCD7PrAPz"
      },
      "execution_count": 5,
      "outputs": []
    },
    {
      "cell_type": "code",
      "source": [
        "column_names = [f'Column_{j+1}' for j in range(num_columns)]"
      ],
      "metadata": {
        "id": "mSO281f1rfmm"
      },
      "execution_count": 6,
      "outputs": []
    },
    {
      "cell_type": "markdown",
      "source": [
        "**Generation of random data and csv files.**"
      ],
      "metadata": {
        "id": "OVnMyfA6rsxs"
      }
    },
    {
      "cell_type": "code",
      "source": [
        "for i in range(num_files):\n",
        "\n",
        "    data = np.random.rand(num_rows, num_columns)\n",
        "    df = pd.DataFrame(data, columns=column_names)\n",
        "    file_name = os.path.join(output_directory, f'data_{i+1:012d}.csv')\n",
        "    df.to_csv(file_name, index=False)"
      ],
      "metadata": {
        "id": "neVVcDgFriZ9"
      },
      "execution_count": 7,
      "outputs": []
    },
    {
      "cell_type": "code",
      "source": [
        "print(f'{num_files} csv files each containing {num_rows} rows have been generated and saved to {output_directory}.')"
      ],
      "metadata": {
        "colab": {
          "base_uri": "https://localhost:8080/"
        },
        "id": "9f7cIoN6sArA",
        "outputId": "bbf23acd-3948-47ee-e8bd-89d5d1f16df0"
      },
      "execution_count": 8,
      "outputs": [
        {
          "output_type": "stream",
          "name": "stdout",
          "text": [
            "110 csv files each containing 40000 rows have been generated and saved to /content/drive/MyDrive/test_thumos/csv.\n"
          ]
        }
      ]
    }
  ]
}